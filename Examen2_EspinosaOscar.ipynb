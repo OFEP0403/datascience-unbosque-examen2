{
  "nbformat": 4,
  "nbformat_minor": 0,
  "metadata": {
    "colab": {
      "name": "Examen2_EspinosaOscar.ipynb",
      "provenance": [],
      "collapsed_sections": []
    },
    "kernelspec": {
      "name": "python3",
      "display_name": "Python 3"
    },
    "language_info": {
      "name": "python"
    }
  },
  "cells": [
    {
      "cell_type": "code",
      "execution_count": 9,
      "metadata": {
        "colab": {
          "base_uri": "https://localhost:8080/"
        },
        "id": "iS1tAgbW1Q1I",
        "outputId": "b05b48ba-443d-4638-c734-ecfbff3c8270"
      },
      "outputs": [
        {
          "output_type": "execute_result",
          "data": {
            "text/plain": [
              "RendererRegistry.enable('default')"
            ]
          },
          "metadata": {},
          "execution_count": 9
        }
      ],
      "source": [
        "import pandas as pd\n",
        "\n",
        "import altair as alt\n",
        "alt.renderers.enable('default')"
      ]
    },
    {
      "cell_type": "markdown",
      "source": [
        "Se lee los datos del archivo csv"
      ],
      "metadata": {
        "id": "IdsM40ER7yBL"
      }
    },
    {
      "cell_type": "code",
      "source": [
        "victims_df = pd.read_csv('./data/Conteo_de_V_ctimas.csv')\n",
        "\n",
        "#Se seleccionan los años menores a 2023 para evitar graficar datos con años posteriores lo cual seria un error en la data\n",
        "victims_df = victims_df[victims_df.ANIO_HECHO < 2023]\n",
        "#Se convierte el tipo de dato de TOTAL_VICTIMAS a int\n",
        "victims_df[\"TOTAL_VICTIMAS\"] = victims_df[\"TOTAL_VICTIMAS\"].str.replace(',', '')\n",
        "victims_df[\"TOTAL_VICTIMAS\"].fillna(0)\n",
        "victims_df[\"TOTAL_VICTIMAS\"] = victims_df[\"TOTAL_VICTIMAS\"].astype(float).astype(\"Int32\")"
      ],
      "metadata": {
        "colab": {
          "base_uri": "https://localhost:8080/"
        },
        "id": "-i4-zuwy2cGv",
        "outputId": "cdacac18-3f46-4932-f9ee-800e52ed7900"
      },
      "execution_count": 133,
      "outputs": [
        {
          "output_type": "stream",
          "name": "stderr",
          "text": [
            "/usr/local/lib/python3.7/dist-packages/IPython/core/interactiveshell.py:2882: DtypeWarning: Columns (24) have mixed types.Specify dtype option on import or set low_memory=False.\n",
            "  exec(code_obj, self.user_global_ns, self.user_ns)\n"
          ]
        }
      ]
    },
    {
      "cell_type": "code",
      "source": [
        "victims_df.shape"
      ],
      "metadata": {
        "colab": {
          "base_uri": "https://localhost:8080/"
        },
        "id": "yi9oP0ru27LB",
        "outputId": "65c50d90-7c69-42cb-b4a3-5361fde0b1c5"
      },
      "execution_count": 83,
      "outputs": [
        {
          "output_type": "execute_result",
          "data": {
            "text/plain": [
              "(3001586, 25)"
            ]
          },
          "metadata": {},
          "execution_count": 83
        }
      ]
    },
    {
      "cell_type": "markdown",
      "source": [
        "Nombre de Columna\t-\tDescripción\t-\tTipo\n",
        "\n",
        "HECHO\t-\tIndica si el proceso corresponde o no a un hecho.\t-\tTexto simple\n",
        "\n",
        "RUPTURA\t-\tIndica si el proceso es o no una ruptura procesal.\t-\tTexto simple\n",
        "\n",
        "CONEXO\t-\tIndica si el proceso es o no una conexidad.\t-\tTexto simple\n",
        "\n",
        "ESTADO_NOTICIA\t-\tEstado de la noticia criminal que contenía el delito de referencia al momento de la consulta del dato en el sistema de información\t-\tTexto simple\n",
        "\n",
        "ETAPA\t-\tEtapa procesal de la noticia criminal que contenía el delito al momento de la consulta del dato en el sistema de información.\t-\tTexto simple\n",
        "\n",
        "ANIO_DENUNCIA\t-\tAño en el que se denunció el hecho.\t-\tTexto simple\n",
        "\n",
        "ANIO_ENTRADA\t-\tAño en que entró a la Fiscalía la noticia criminal.\t-\tTexto simple\n",
        "\n",
        "ANIO_HECHO\t-\tAño en que presuntamente ocurrió el hecho.\t-\tTexto simple\n",
        "LEY\t-\tMarco legal en el que se encontraba la noticia criminal al momento de la consulta del dato en el sistema de información.\t-\tTexto simple\n",
        "\n",
        "PAIS\t-\tPaís en donde presuntamente ocurrieron los hechos que conoció la Fiscalía.\t-\tTexto simple\n",
        "\n",
        "DEPARTAMENTO\t-\tDepartamento en donde presuntamente ocurrieron los hechos que conoció la Fiscalía.\t-\tTexto simple\n",
        "\n",
        "MUNICIPIO\t-\tMunicipio en donde presuntamente ocurrieron los hechos que conoció la Fiscalía.\t-\tTexto simple\n",
        "\n",
        "SECCIONAL\t-\tDependencia de la Fiscalía con la noticia criminal asignada al momento de la consulta del dato en el sistema de información.\t-\tTexto simple\n",
        "\n",
        "GRUPO_DELITO\t-\tAgrupación de los delitos del código penal\t-\tTexto simple\n",
        "\n",
        "DELITO\t-\tDescripción del artículo según el Código Penal\t-\tTexto simple\n",
        "\n",
        "IMPUTACION\t-\tIndica si el caso tiene o no alguna actuación de imputación.\t-\tTexto simple\n",
        "\n",
        "CONDENA\t-\tIndica si el caso tiene o no alguna actuación de condena.\t-\tTexto simple\n",
        "\n",
        "ATIPICIDAD_INEXISTENCIA\t-\tIndica si el caso tiene o no la última actuación de archivo o preclusión por atipicidad o inexistencia.\t-\tTexto simple\n",
        "\n",
        "ACUSACION\t-\tIndica si el caso tiene o no alguna actuación de acusación.\t-\tTexto simple\n",
        "\n",
        "CAPTURA\t-\tIndica si el caso tiene o no alguna actuación de captura.\t-\tTexto simple\n",
        "\n",
        "SEXO_VICTIMA\t-\tSexo registrado de la víctima.\t-\tTexto simple\n",
        "\n",
        "GRUPO_EDAD_VICTIMA\t-\tAgrupación de edad a la que pertenece la víctima.\t-\tTexto simple\n",
        "\n",
        "PAIS_NACIMIENTO\t-\tPaís de nacimiento registrado para la víctima\t-\tTexto simple\n",
        "\n",
        "HOMICIDIO_DOLOSO_CONSUMADO\t-\tIndica si el delito (Homicidio doloso o Feminicidio) en este proceso fue registrado como consumado. Es posible que la fecha de corte de este campo sea anterior al del resto de datos debido al procedimiento interno que requiere.\t-\tTexto simple\n",
        "\n",
        "TOTAL_VICTIMAS\t-\tConteo total de víctimas al cruzar las variables anteriores.\t-\tNúmero"
      ],
      "metadata": {
        "id": "Dnknecqh4KUR"
      }
    },
    {
      "cell_type": "code",
      "source": [
        "victims_df.dtypes"
      ],
      "metadata": {
        "colab": {
          "base_uri": "https://localhost:8080/"
        },
        "id": "-5OIOEms2-p5",
        "outputId": "99beb0ea-a8e9-4930-d68c-02f61df5e21c"
      },
      "execution_count": 134,
      "outputs": [
        {
          "output_type": "execute_result",
          "data": {
            "text/plain": [
              "HECHO                          object\n",
              "RUPTURA                        object\n",
              "CONEXO                         object\n",
              "ESTADO_NOTICIA                 object\n",
              "ETAPA                          object\n",
              "ANIO_DENUNCIA                 float64\n",
              "ANIO_ENTRADA                  float64\n",
              "ANIO_HECHO                    float64\n",
              "LEY                            object\n",
              "PAIS                           object\n",
              "DEPARTAMENTO                   object\n",
              "MUNICIPIO                      object\n",
              "SECCIONAL                      object\n",
              "GRUPO_DELITO                   object\n",
              "DELITO                         object\n",
              "IMPUTACION                     object\n",
              "CONDENA                        object\n",
              "ATIPICIDAD_INEXISTENCIA        object\n",
              "ACUSACION                      object\n",
              "CAPTURA                        object\n",
              "SEXO_VICTIMA                   object\n",
              "GRUPO_EDAD_VICTIMA             object\n",
              "PAIS_NACIMIENTO                object\n",
              "HOMICIDIO_DOLOSO_CONSUMADO     object\n",
              "TOTAL_VICTIMAS                  Int32\n",
              "dtype: object"
            ]
          },
          "metadata": {},
          "execution_count": 134
        }
      ]
    },
    {
      "cell_type": "code",
      "source": [
        "victims_df.head()"
      ],
      "metadata": {
        "colab": {
          "base_uri": "https://localhost:8080/",
          "height": 386
        },
        "id": "iv1lfzZ02-hU",
        "outputId": "b11e3177-2b1f-4aba-9ad6-a7bb27771e2c"
      },
      "execution_count": 12,
      "outputs": [
        {
          "output_type": "execute_result",
          "data": {
            "text/plain": [
              "  HECHO RUPTURA CONEXO ESTADO_NOTICIA               ETAPA  ANIO_DENUNCIA  \\\n",
              "0    SI      NO     NO       INACTIVO         QUERELLABLE         2010.0   \n",
              "1    SI      NO     NO       INACTIVO  EJECUCIÓN DE PENAS         2011.0   \n",
              "2    SI      NO     NO         ACTIVO          INDAGACIÓN         2021.0   \n",
              "3    SI      NO     NO         ACTIVO          INDAGACIÓN         2021.0   \n",
              "4    SI      NO     NO       INACTIVO          INDAGACIÓN         2020.0   \n",
              "\n",
              "   ANIO_ENTRADA  ANIO_HECHO       LEY      PAIS  ... IMPUTACION CONDENA  \\\n",
              "0        2010.0      2010.0   Ley 906  Colombia  ...         NO      NO   \n",
              "1        2011.0      2011.0  Ley 1098  Colombia  ...         SI      NO   \n",
              "2        2021.0      2021.0   Ley 906  Colombia  ...         NO      NO   \n",
              "3        2021.0      2021.0   Ley 906  Colombia  ...         NO      NO   \n",
              "4        2020.0      2018.0   Ley 906  Colombia  ...         NO      NO   \n",
              "\n",
              "  ATIPICIDAD_INEXISTENCIA ACUSACION CAPTURA SEXO_VICTIMA GRUPO_EDAD_VICTIMA  \\\n",
              "0                      NO        NO      NO    MASCULINO   JUVENTUD 18 - 28   \n",
              "1                      NO        SI      NO    MASCULINO    INFANCIA 6 - 11   \n",
              "2                      NO        NO      NO     FEMENINO    ADULTEZ 29 - 59   \n",
              "3                      NO        NO      NO     FEMENINO           SIN DATO   \n",
              "4                      NO        NO      NO     FEMENINO    ADULTEZ 29 - 59   \n",
              "\n",
              "  PAIS_NACIMIENTO HOMICIDIO_DOLOSO_CONSUMADO TOTAL_VICTIMAS  \n",
              "0        Colombia                         NO             13  \n",
              "1        Colombia                         NO              3  \n",
              "2        Colombia                         NO             12  \n",
              "3        Colombia                         NO              1  \n",
              "4        Colombia                         NO              1  \n",
              "\n",
              "[5 rows x 25 columns]"
            ],
            "text/html": [
              "\n",
              "  <div id=\"df-59bb8df8-8572-4d19-b39b-6dc89c9501ba\">\n",
              "    <div class=\"colab-df-container\">\n",
              "      <div>\n",
              "<style scoped>\n",
              "    .dataframe tbody tr th:only-of-type {\n",
              "        vertical-align: middle;\n",
              "    }\n",
              "\n",
              "    .dataframe tbody tr th {\n",
              "        vertical-align: top;\n",
              "    }\n",
              "\n",
              "    .dataframe thead th {\n",
              "        text-align: right;\n",
              "    }\n",
              "</style>\n",
              "<table border=\"1\" class=\"dataframe\">\n",
              "  <thead>\n",
              "    <tr style=\"text-align: right;\">\n",
              "      <th></th>\n",
              "      <th>HECHO</th>\n",
              "      <th>RUPTURA</th>\n",
              "      <th>CONEXO</th>\n",
              "      <th>ESTADO_NOTICIA</th>\n",
              "      <th>ETAPA</th>\n",
              "      <th>ANIO_DENUNCIA</th>\n",
              "      <th>ANIO_ENTRADA</th>\n",
              "      <th>ANIO_HECHO</th>\n",
              "      <th>LEY</th>\n",
              "      <th>PAIS</th>\n",
              "      <th>...</th>\n",
              "      <th>IMPUTACION</th>\n",
              "      <th>CONDENA</th>\n",
              "      <th>ATIPICIDAD_INEXISTENCIA</th>\n",
              "      <th>ACUSACION</th>\n",
              "      <th>CAPTURA</th>\n",
              "      <th>SEXO_VICTIMA</th>\n",
              "      <th>GRUPO_EDAD_VICTIMA</th>\n",
              "      <th>PAIS_NACIMIENTO</th>\n",
              "      <th>HOMICIDIO_DOLOSO_CONSUMADO</th>\n",
              "      <th>TOTAL_VICTIMAS</th>\n",
              "    </tr>\n",
              "  </thead>\n",
              "  <tbody>\n",
              "    <tr>\n",
              "      <th>0</th>\n",
              "      <td>SI</td>\n",
              "      <td>NO</td>\n",
              "      <td>NO</td>\n",
              "      <td>INACTIVO</td>\n",
              "      <td>QUERELLABLE</td>\n",
              "      <td>2010.0</td>\n",
              "      <td>2010.0</td>\n",
              "      <td>2010.0</td>\n",
              "      <td>Ley 906</td>\n",
              "      <td>Colombia</td>\n",
              "      <td>...</td>\n",
              "      <td>NO</td>\n",
              "      <td>NO</td>\n",
              "      <td>NO</td>\n",
              "      <td>NO</td>\n",
              "      <td>NO</td>\n",
              "      <td>MASCULINO</td>\n",
              "      <td>JUVENTUD 18 - 28</td>\n",
              "      <td>Colombia</td>\n",
              "      <td>NO</td>\n",
              "      <td>13</td>\n",
              "    </tr>\n",
              "    <tr>\n",
              "      <th>1</th>\n",
              "      <td>SI</td>\n",
              "      <td>NO</td>\n",
              "      <td>NO</td>\n",
              "      <td>INACTIVO</td>\n",
              "      <td>EJECUCIÓN DE PENAS</td>\n",
              "      <td>2011.0</td>\n",
              "      <td>2011.0</td>\n",
              "      <td>2011.0</td>\n",
              "      <td>Ley 1098</td>\n",
              "      <td>Colombia</td>\n",
              "      <td>...</td>\n",
              "      <td>SI</td>\n",
              "      <td>NO</td>\n",
              "      <td>NO</td>\n",
              "      <td>SI</td>\n",
              "      <td>NO</td>\n",
              "      <td>MASCULINO</td>\n",
              "      <td>INFANCIA 6 - 11</td>\n",
              "      <td>Colombia</td>\n",
              "      <td>NO</td>\n",
              "      <td>3</td>\n",
              "    </tr>\n",
              "    <tr>\n",
              "      <th>2</th>\n",
              "      <td>SI</td>\n",
              "      <td>NO</td>\n",
              "      <td>NO</td>\n",
              "      <td>ACTIVO</td>\n",
              "      <td>INDAGACIÓN</td>\n",
              "      <td>2021.0</td>\n",
              "      <td>2021.0</td>\n",
              "      <td>2021.0</td>\n",
              "      <td>Ley 906</td>\n",
              "      <td>Colombia</td>\n",
              "      <td>...</td>\n",
              "      <td>NO</td>\n",
              "      <td>NO</td>\n",
              "      <td>NO</td>\n",
              "      <td>NO</td>\n",
              "      <td>NO</td>\n",
              "      <td>FEMENINO</td>\n",
              "      <td>ADULTEZ 29 - 59</td>\n",
              "      <td>Colombia</td>\n",
              "      <td>NO</td>\n",
              "      <td>12</td>\n",
              "    </tr>\n",
              "    <tr>\n",
              "      <th>3</th>\n",
              "      <td>SI</td>\n",
              "      <td>NO</td>\n",
              "      <td>NO</td>\n",
              "      <td>ACTIVO</td>\n",
              "      <td>INDAGACIÓN</td>\n",
              "      <td>2021.0</td>\n",
              "      <td>2021.0</td>\n",
              "      <td>2021.0</td>\n",
              "      <td>Ley 906</td>\n",
              "      <td>Colombia</td>\n",
              "      <td>...</td>\n",
              "      <td>NO</td>\n",
              "      <td>NO</td>\n",
              "      <td>NO</td>\n",
              "      <td>NO</td>\n",
              "      <td>NO</td>\n",
              "      <td>FEMENINO</td>\n",
              "      <td>SIN DATO</td>\n",
              "      <td>Colombia</td>\n",
              "      <td>NO</td>\n",
              "      <td>1</td>\n",
              "    </tr>\n",
              "    <tr>\n",
              "      <th>4</th>\n",
              "      <td>SI</td>\n",
              "      <td>NO</td>\n",
              "      <td>NO</td>\n",
              "      <td>INACTIVO</td>\n",
              "      <td>INDAGACIÓN</td>\n",
              "      <td>2020.0</td>\n",
              "      <td>2020.0</td>\n",
              "      <td>2018.0</td>\n",
              "      <td>Ley 906</td>\n",
              "      <td>Colombia</td>\n",
              "      <td>...</td>\n",
              "      <td>NO</td>\n",
              "      <td>NO</td>\n",
              "      <td>NO</td>\n",
              "      <td>NO</td>\n",
              "      <td>NO</td>\n",
              "      <td>FEMENINO</td>\n",
              "      <td>ADULTEZ 29 - 59</td>\n",
              "      <td>Colombia</td>\n",
              "      <td>NO</td>\n",
              "      <td>1</td>\n",
              "    </tr>\n",
              "  </tbody>\n",
              "</table>\n",
              "<p>5 rows × 25 columns</p>\n",
              "</div>\n",
              "      <button class=\"colab-df-convert\" onclick=\"convertToInteractive('df-59bb8df8-8572-4d19-b39b-6dc89c9501ba')\"\n",
              "              title=\"Convert this dataframe to an interactive table.\"\n",
              "              style=\"display:none;\">\n",
              "        \n",
              "  <svg xmlns=\"http://www.w3.org/2000/svg\" height=\"24px\"viewBox=\"0 0 24 24\"\n",
              "       width=\"24px\">\n",
              "    <path d=\"M0 0h24v24H0V0z\" fill=\"none\"/>\n",
              "    <path d=\"M18.56 5.44l.94 2.06.94-2.06 2.06-.94-2.06-.94-.94-2.06-.94 2.06-2.06.94zm-11 1L8.5 8.5l.94-2.06 2.06-.94-2.06-.94L8.5 2.5l-.94 2.06-2.06.94zm10 10l.94 2.06.94-2.06 2.06-.94-2.06-.94-.94-2.06-.94 2.06-2.06.94z\"/><path d=\"M17.41 7.96l-1.37-1.37c-.4-.4-.92-.59-1.43-.59-.52 0-1.04.2-1.43.59L10.3 9.45l-7.72 7.72c-.78.78-.78 2.05 0 2.83L4 21.41c.39.39.9.59 1.41.59.51 0 1.02-.2 1.41-.59l7.78-7.78 2.81-2.81c.8-.78.8-2.07 0-2.86zM5.41 20L4 18.59l7.72-7.72 1.47 1.35L5.41 20z\"/>\n",
              "  </svg>\n",
              "      </button>\n",
              "      \n",
              "  <style>\n",
              "    .colab-df-container {\n",
              "      display:flex;\n",
              "      flex-wrap:wrap;\n",
              "      gap: 12px;\n",
              "    }\n",
              "\n",
              "    .colab-df-convert {\n",
              "      background-color: #E8F0FE;\n",
              "      border: none;\n",
              "      border-radius: 50%;\n",
              "      cursor: pointer;\n",
              "      display: none;\n",
              "      fill: #1967D2;\n",
              "      height: 32px;\n",
              "      padding: 0 0 0 0;\n",
              "      width: 32px;\n",
              "    }\n",
              "\n",
              "    .colab-df-convert:hover {\n",
              "      background-color: #E2EBFA;\n",
              "      box-shadow: 0px 1px 2px rgba(60, 64, 67, 0.3), 0px 1px 3px 1px rgba(60, 64, 67, 0.15);\n",
              "      fill: #174EA6;\n",
              "    }\n",
              "\n",
              "    [theme=dark] .colab-df-convert {\n",
              "      background-color: #3B4455;\n",
              "      fill: #D2E3FC;\n",
              "    }\n",
              "\n",
              "    [theme=dark] .colab-df-convert:hover {\n",
              "      background-color: #434B5C;\n",
              "      box-shadow: 0px 1px 3px 1px rgba(0, 0, 0, 0.15);\n",
              "      filter: drop-shadow(0px 1px 2px rgba(0, 0, 0, 0.3));\n",
              "      fill: #FFFFFF;\n",
              "    }\n",
              "  </style>\n",
              "\n",
              "      <script>\n",
              "        const buttonEl =\n",
              "          document.querySelector('#df-59bb8df8-8572-4d19-b39b-6dc89c9501ba button.colab-df-convert');\n",
              "        buttonEl.style.display =\n",
              "          google.colab.kernel.accessAllowed ? 'block' : 'none';\n",
              "\n",
              "        async function convertToInteractive(key) {\n",
              "          const element = document.querySelector('#df-59bb8df8-8572-4d19-b39b-6dc89c9501ba');\n",
              "          const dataTable =\n",
              "            await google.colab.kernel.invokeFunction('convertToInteractive',\n",
              "                                                     [key], {});\n",
              "          if (!dataTable) return;\n",
              "\n",
              "          const docLinkHtml = 'Like what you see? Visit the ' +\n",
              "            '<a target=\"_blank\" href=https://colab.research.google.com/notebooks/data_table.ipynb>data table notebook</a>'\n",
              "            + ' to learn more about interactive tables.';\n",
              "          element.innerHTML = '';\n",
              "          dataTable['output_type'] = 'display_data';\n",
              "          await google.colab.output.renderOutput(dataTable, element);\n",
              "          const docLink = document.createElement('div');\n",
              "          docLink.innerHTML = docLinkHtml;\n",
              "          element.appendChild(docLink);\n",
              "        }\n",
              "      </script>\n",
              "    </div>\n",
              "  </div>\n",
              "  "
            ]
          },
          "metadata": {},
          "execution_count": 12
        }
      ]
    },
    {
      "cell_type": "markdown",
      "source": [
        "¿Cual es el total de victimas por año?"
      ],
      "metadata": {
        "id": "WsDu-Nb1AkQ5"
      }
    },
    {
      "cell_type": "code",
      "source": [
        "total_by_year = victims_df.groupby(['ANIO_HECHO'])['TOTAL_VICTIMAS'].sum().reset_index()\n",
        "\n",
        "alt.Chart(total_by_year).mark_bar().encode(\n",
        "    alt.X(\"ANIO_HECHO:N\"),\n",
        "    alt.Y('TOTAL_VICTIMAS:Q'),\n",
        "    tooltip = [alt.Tooltip('TOTAL_VICTIMAS:Q')]\n",
        ").interactive().properties(\n",
        "    width = 800,\n",
        "    height = 500\n",
        ")"
      ],
      "metadata": {
        "id": "UP9SGlQN75oM",
        "colab": {
          "base_uri": "https://localhost:8080/",
          "height": 582
        },
        "outputId": "e6b5621f-b31d-4ce4-c358-bfde42e091f6"
      },
      "execution_count": 135,
      "outputs": [
        {
          "output_type": "execute_result",
          "data": {
            "text/html": [
              "\n",
              "<div id=\"altair-viz-62c93e3a9fe9434682b9e1bfc65590dd\"></div>\n",
              "<script type=\"text/javascript\">\n",
              "  var VEGA_DEBUG = (typeof VEGA_DEBUG == \"undefined\") ? {} : VEGA_DEBUG;\n",
              "  (function(spec, embedOpt){\n",
              "    let outputDiv = document.currentScript.previousElementSibling;\n",
              "    if (outputDiv.id !== \"altair-viz-62c93e3a9fe9434682b9e1bfc65590dd\") {\n",
              "      outputDiv = document.getElementById(\"altair-viz-62c93e3a9fe9434682b9e1bfc65590dd\");\n",
              "    }\n",
              "    const paths = {\n",
              "      \"vega\": \"https://cdn.jsdelivr.net/npm//vega@5?noext\",\n",
              "      \"vega-lib\": \"https://cdn.jsdelivr.net/npm//vega-lib?noext\",\n",
              "      \"vega-lite\": \"https://cdn.jsdelivr.net/npm//vega-lite@4.17.0?noext\",\n",
              "      \"vega-embed\": \"https://cdn.jsdelivr.net/npm//vega-embed@6?noext\",\n",
              "    };\n",
              "\n",
              "    function maybeLoadScript(lib, version) {\n",
              "      var key = `${lib.replace(\"-\", \"\")}_version`;\n",
              "      return (VEGA_DEBUG[key] == version) ?\n",
              "        Promise.resolve(paths[lib]) :\n",
              "        new Promise(function(resolve, reject) {\n",
              "          var s = document.createElement('script');\n",
              "          document.getElementsByTagName(\"head\")[0].appendChild(s);\n",
              "          s.async = true;\n",
              "          s.onload = () => {\n",
              "            VEGA_DEBUG[key] = version;\n",
              "            return resolve(paths[lib]);\n",
              "          };\n",
              "          s.onerror = () => reject(`Error loading script: ${paths[lib]}`);\n",
              "          s.src = paths[lib];\n",
              "        });\n",
              "    }\n",
              "\n",
              "    function showError(err) {\n",
              "      outputDiv.innerHTML = `<div class=\"error\" style=\"color:red;\">${err}</div>`;\n",
              "      throw err;\n",
              "    }\n",
              "\n",
              "    function displayChart(vegaEmbed) {\n",
              "      vegaEmbed(outputDiv, spec, embedOpt)\n",
              "        .catch(err => showError(`Javascript Error: ${err.message}<br>This usually means there's a typo in your chart specification. See the javascript console for the full traceback.`));\n",
              "    }\n",
              "\n",
              "    if(typeof define === \"function\" && define.amd) {\n",
              "      requirejs.config({paths});\n",
              "      require([\"vega-embed\"], displayChart, err => showError(`Error loading script: ${err.message}`));\n",
              "    } else {\n",
              "      maybeLoadScript(\"vega\", \"5\")\n",
              "        .then(() => maybeLoadScript(\"vega-lite\", \"4.17.0\"))\n",
              "        .then(() => maybeLoadScript(\"vega-embed\", \"6\"))\n",
              "        .catch(showError)\n",
              "        .then(() => displayChart(vegaEmbed));\n",
              "    }\n",
              "  })({\"config\": {\"view\": {\"continuousWidth\": 400, \"continuousHeight\": 300}}, \"data\": {\"name\": \"data-8cfa9b8883e909c009a2af4c8b9a3b18\"}, \"mark\": \"bar\", \"encoding\": {\"tooltip\": [{\"field\": \"TOTAL_VICTIMAS\", \"type\": \"quantitative\"}], \"x\": {\"field\": \"ANIO_HECHO\", \"type\": \"nominal\"}, \"y\": {\"field\": \"TOTAL_VICTIMAS\", \"type\": \"quantitative\"}}, \"height\": 500, \"selection\": {\"selector025\": {\"type\": \"interval\", \"bind\": \"scales\", \"encodings\": [\"x\", \"y\"]}}, \"width\": 800, \"$schema\": \"https://vega.github.io/schema/vega-lite/v4.17.0.json\", \"datasets\": {\"data-8cfa9b8883e909c009a2af4c8b9a3b18\": [{\"ANIO_HECHO\": 2010.0, \"TOTAL_VICTIMAS\": 366086}, {\"ANIO_HECHO\": 2011.0, \"TOTAL_VICTIMAS\": 390145}, {\"ANIO_HECHO\": 2012.0, \"TOTAL_VICTIMAS\": 379931}, {\"ANIO_HECHO\": 2013.0, \"TOTAL_VICTIMAS\": 411025}, {\"ANIO_HECHO\": 2014.0, \"TOTAL_VICTIMAS\": 420586}, {\"ANIO_HECHO\": 2015.0, \"TOTAL_VICTIMAS\": 444558}, {\"ANIO_HECHO\": 2016.0, \"TOTAL_VICTIMAS\": 461506}, {\"ANIO_HECHO\": 2017.0, \"TOTAL_VICTIMAS\": 505770}, {\"ANIO_HECHO\": 2018.0, \"TOTAL_VICTIMAS\": 619665}, {\"ANIO_HECHO\": 2019.0, \"TOTAL_VICTIMAS\": 735297}, {\"ANIO_HECHO\": 2020.0, \"TOTAL_VICTIMAS\": 480048}, {\"ANIO_HECHO\": 2021.0, \"TOTAL_VICTIMAS\": 644264}]}}, {\"mode\": \"vega-lite\"});\n",
              "</script>"
            ],
            "text/plain": [
              "alt.Chart(...)"
            ]
          },
          "metadata": {},
          "execution_count": 135
        }
      ]
    },
    {
      "cell_type": "markdown",
      "source": [
        "¿Cual es el porcentaje de incremento de victimas, con respecto al año anterior?"
      ],
      "metadata": {
        "id": "WZgQecz3CJ0k"
      }
    },
    {
      "cell_type": "code",
      "source": [
        "df_percentage_by_year = pd.DataFrame(columns=['ANIO_HECHO','TOTAL_VICTIMAS','PORCENTAJE_INCREMENTO'])\n",
        "\n",
        "#Tenemos un año minimo el cual tomaremos como el inicial, el cual seria el index = 0\n",
        "for index, row in total_by_year.iterrows():  \n",
        "  if index == 0:\n",
        "    df_item0 = {'ANIO_HECHO': row[\"ANIO_HECHO\"], 'TOTAL_VICTIMAS': row[\"TOTAL_VICTIMAS\"], 'PORCENTAJE_INCREMENTO': 0}\n",
        "    df_percentage_by_year = df_percentage_by_year.append(df_item0, ignore_index=True)\n",
        "  else:\n",
        "    #Se calcula el porcentaje de incremento con una regla de 3 simple\n",
        "    #(TOTAL_VICTIMAS Actual * 100) / TOTAL_VICTIMAS Año anterior y le resto 100\n",
        "    percentage_calculate = (row[\"TOTAL_VICTIMAS\"]*100)/total_by_year.loc[int(index) - 1, 'TOTAL_VICTIMAS'] - 100\n",
        "    df_item_new = {'ANIO_HECHO': row[\"ANIO_HECHO\"], 'TOTAL_VICTIMAS': row[\"TOTAL_VICTIMAS\"], 'PORCENTAJE_INCREMENTO': percentage_calculate }\n",
        "    df_percentage_by_year = df_percentage_by_year.append(df_item_new, ignore_index=True)\n",
        "\n",
        "alt.Chart(df_percentage_by_year).mark_bar().encode(\n",
        "    x=\"ANIO_HECHO:N\",\n",
        "    y=\"PORCENTAJE_INCREMENTO:Q\",\n",
        "    tooltip = [alt.Tooltip('TOTAL_VICTIMAS:Q'),\n",
        "               alt.Tooltip('PORCENTAJE_INCREMENTO:Q')],\n",
        "    color=alt.condition(\n",
        "        alt.datum.PORCENTAJE_INCREMENTO > 0,\n",
        "        alt.value(\"steelblue\"), #Valor positivo\n",
        "        alt.value(\"orange\")  #Valor negativo\n",
        "    )\n",
        ").properties(width=800)"
      ],
      "metadata": {
        "colab": {
          "base_uri": "https://localhost:8080/",
          "height": 377
        },
        "id": "J1KfcM5DByDr",
        "outputId": "4ec8a94d-73f2-4669-d0a2-011fcc5fad83"
      },
      "execution_count": 137,
      "outputs": [
        {
          "output_type": "execute_result",
          "data": {
            "text/html": [
              "\n",
              "<div id=\"altair-viz-0d528476e556471bab872758f6c9a806\"></div>\n",
              "<script type=\"text/javascript\">\n",
              "  var VEGA_DEBUG = (typeof VEGA_DEBUG == \"undefined\") ? {} : VEGA_DEBUG;\n",
              "  (function(spec, embedOpt){\n",
              "    let outputDiv = document.currentScript.previousElementSibling;\n",
              "    if (outputDiv.id !== \"altair-viz-0d528476e556471bab872758f6c9a806\") {\n",
              "      outputDiv = document.getElementById(\"altair-viz-0d528476e556471bab872758f6c9a806\");\n",
              "    }\n",
              "    const paths = {\n",
              "      \"vega\": \"https://cdn.jsdelivr.net/npm//vega@5?noext\",\n",
              "      \"vega-lib\": \"https://cdn.jsdelivr.net/npm//vega-lib?noext\",\n",
              "      \"vega-lite\": \"https://cdn.jsdelivr.net/npm//vega-lite@4.17.0?noext\",\n",
              "      \"vega-embed\": \"https://cdn.jsdelivr.net/npm//vega-embed@6?noext\",\n",
              "    };\n",
              "\n",
              "    function maybeLoadScript(lib, version) {\n",
              "      var key = `${lib.replace(\"-\", \"\")}_version`;\n",
              "      return (VEGA_DEBUG[key] == version) ?\n",
              "        Promise.resolve(paths[lib]) :\n",
              "        new Promise(function(resolve, reject) {\n",
              "          var s = document.createElement('script');\n",
              "          document.getElementsByTagName(\"head\")[0].appendChild(s);\n",
              "          s.async = true;\n",
              "          s.onload = () => {\n",
              "            VEGA_DEBUG[key] = version;\n",
              "            return resolve(paths[lib]);\n",
              "          };\n",
              "          s.onerror = () => reject(`Error loading script: ${paths[lib]}`);\n",
              "          s.src = paths[lib];\n",
              "        });\n",
              "    }\n",
              "\n",
              "    function showError(err) {\n",
              "      outputDiv.innerHTML = `<div class=\"error\" style=\"color:red;\">${err}</div>`;\n",
              "      throw err;\n",
              "    }\n",
              "\n",
              "    function displayChart(vegaEmbed) {\n",
              "      vegaEmbed(outputDiv, spec, embedOpt)\n",
              "        .catch(err => showError(`Javascript Error: ${err.message}<br>This usually means there's a typo in your chart specification. See the javascript console for the full traceback.`));\n",
              "    }\n",
              "\n",
              "    if(typeof define === \"function\" && define.amd) {\n",
              "      requirejs.config({paths});\n",
              "      require([\"vega-embed\"], displayChart, err => showError(`Error loading script: ${err.message}`));\n",
              "    } else {\n",
              "      maybeLoadScript(\"vega\", \"5\")\n",
              "        .then(() => maybeLoadScript(\"vega-lite\", \"4.17.0\"))\n",
              "        .then(() => maybeLoadScript(\"vega-embed\", \"6\"))\n",
              "        .catch(showError)\n",
              "        .then(() => displayChart(vegaEmbed));\n",
              "    }\n",
              "  })({\"config\": {\"view\": {\"continuousWidth\": 400, \"continuousHeight\": 300}}, \"data\": {\"name\": \"data-b2f90d2abdc71522f26aa6468342a448\"}, \"mark\": \"bar\", \"encoding\": {\"color\": {\"condition\": {\"value\": \"steelblue\", \"test\": \"(datum.PORCENTAJE_INCREMENTO > 0)\"}, \"value\": \"orange\"}, \"tooltip\": [{\"field\": \"TOTAL_VICTIMAS\", \"type\": \"quantitative\"}, {\"field\": \"PORCENTAJE_INCREMENTO\", \"type\": \"quantitative\"}], \"x\": {\"field\": \"ANIO_HECHO\", \"type\": \"nominal\"}, \"y\": {\"field\": \"PORCENTAJE_INCREMENTO\", \"type\": \"quantitative\"}}, \"width\": 800, \"$schema\": \"https://vega.github.io/schema/vega-lite/v4.17.0.json\", \"datasets\": {\"data-b2f90d2abdc71522f26aa6468342a448\": [{\"ANIO_HECHO\": 2010.0, \"TOTAL_VICTIMAS\": 366086.0, \"PORCENTAJE_INCREMENTO\": 0.0}, {\"ANIO_HECHO\": 2011.0, \"TOTAL_VICTIMAS\": 390145.0, \"PORCENTAJE_INCREMENTO\": 6.571953038357108}, {\"ANIO_HECHO\": 2012.0, \"TOTAL_VICTIMAS\": 379931.0, \"PORCENTAJE_INCREMENTO\": -2.61800099962835}, {\"ANIO_HECHO\": 2013.0, \"TOTAL_VICTIMAS\": 411025.0, \"PORCENTAJE_INCREMENTO\": 8.184117642414023}, {\"ANIO_HECHO\": 2014.0, \"TOTAL_VICTIMAS\": 420586.0, \"PORCENTAJE_INCREMENTO\": 2.326135879812668}, {\"ANIO_HECHO\": 2015.0, \"TOTAL_VICTIMAS\": 444558.0, \"PORCENTAJE_INCREMENTO\": 5.699666655571036}, {\"ANIO_HECHO\": 2016.0, \"TOTAL_VICTIMAS\": 461506.0, \"PORCENTAJE_INCREMENTO\": 3.812325950719597}, {\"ANIO_HECHO\": 2017.0, \"TOTAL_VICTIMAS\": 505770.0, \"PORCENTAJE_INCREMENTO\": 9.591207914956684}, {\"ANIO_HECHO\": 2018.0, \"TOTAL_VICTIMAS\": 619665.0, \"PORCENTAJE_INCREMENTO\": 22.519129248472623}, {\"ANIO_HECHO\": 2019.0, \"TOTAL_VICTIMAS\": 735297.0, \"PORCENTAJE_INCREMENTO\": 18.660405218948952}, {\"ANIO_HECHO\": 2020.0, \"TOTAL_VICTIMAS\": 480048.0, \"PORCENTAJE_INCREMENTO\": -34.71372792218655}, {\"ANIO_HECHO\": 2021.0, \"TOTAL_VICTIMAS\": 644264.0, \"PORCENTAJE_INCREMENTO\": 34.20824584208245}]}}, {\"mode\": \"vega-lite\"});\n",
              "</script>"
            ],
            "text/plain": [
              "alt.Chart(...)"
            ]
          },
          "metadata": {},
          "execution_count": 137
        }
      ]
    },
    {
      "cell_type": "markdown",
      "source": [
        "¿Cual es el departamento de Colombia que más victimas ha tenido?"
      ],
      "metadata": {
        "id": "k7MnBPoHT7Xb"
      }
    },
    {
      "cell_type": "code",
      "source": [
        "total_by_year = victims_df.groupby(['DEPARTAMENTO'])['TOTAL_VICTIMAS'].sum().reset_index()\n",
        "\n",
        "alt.Chart(total_by_year).mark_bar().encode(\n",
        "    alt.X(\"DEPARTAMENTO:N\"),\n",
        "    alt.Y('TOTAL_VICTIMAS:Q'),\n",
        "    tooltip = [alt.Tooltip('TOTAL_VICTIMAS:Q')]\n",
        ").interactive().properties(\n",
        "    width = 800,\n",
        "    height = 500\n",
        ")"
      ],
      "metadata": {
        "colab": {
          "base_uri": "https://localhost:8080/",
          "height": 738
        },
        "id": "sGP67ZUwEo5w",
        "outputId": "c6db88eb-7289-40a2-fe18-f121657c9e46"
      },
      "execution_count": 138,
      "outputs": [
        {
          "output_type": "execute_result",
          "data": {
            "text/html": [
              "\n",
              "<div id=\"altair-viz-4210b320f60f421886639ff7877bc7c6\"></div>\n",
              "<script type=\"text/javascript\">\n",
              "  var VEGA_DEBUG = (typeof VEGA_DEBUG == \"undefined\") ? {} : VEGA_DEBUG;\n",
              "  (function(spec, embedOpt){\n",
              "    let outputDiv = document.currentScript.previousElementSibling;\n",
              "    if (outputDiv.id !== \"altair-viz-4210b320f60f421886639ff7877bc7c6\") {\n",
              "      outputDiv = document.getElementById(\"altair-viz-4210b320f60f421886639ff7877bc7c6\");\n",
              "    }\n",
              "    const paths = {\n",
              "      \"vega\": \"https://cdn.jsdelivr.net/npm//vega@5?noext\",\n",
              "      \"vega-lib\": \"https://cdn.jsdelivr.net/npm//vega-lib?noext\",\n",
              "      \"vega-lite\": \"https://cdn.jsdelivr.net/npm//vega-lite@4.17.0?noext\",\n",
              "      \"vega-embed\": \"https://cdn.jsdelivr.net/npm//vega-embed@6?noext\",\n",
              "    };\n",
              "\n",
              "    function maybeLoadScript(lib, version) {\n",
              "      var key = `${lib.replace(\"-\", \"\")}_version`;\n",
              "      return (VEGA_DEBUG[key] == version) ?\n",
              "        Promise.resolve(paths[lib]) :\n",
              "        new Promise(function(resolve, reject) {\n",
              "          var s = document.createElement('script');\n",
              "          document.getElementsByTagName(\"head\")[0].appendChild(s);\n",
              "          s.async = true;\n",
              "          s.onload = () => {\n",
              "            VEGA_DEBUG[key] = version;\n",
              "            return resolve(paths[lib]);\n",
              "          };\n",
              "          s.onerror = () => reject(`Error loading script: ${paths[lib]}`);\n",
              "          s.src = paths[lib];\n",
              "        });\n",
              "    }\n",
              "\n",
              "    function showError(err) {\n",
              "      outputDiv.innerHTML = `<div class=\"error\" style=\"color:red;\">${err}</div>`;\n",
              "      throw err;\n",
              "    }\n",
              "\n",
              "    function displayChart(vegaEmbed) {\n",
              "      vegaEmbed(outputDiv, spec, embedOpt)\n",
              "        .catch(err => showError(`Javascript Error: ${err.message}<br>This usually means there's a typo in your chart specification. See the javascript console for the full traceback.`));\n",
              "    }\n",
              "\n",
              "    if(typeof define === \"function\" && define.amd) {\n",
              "      requirejs.config({paths});\n",
              "      require([\"vega-embed\"], displayChart, err => showError(`Error loading script: ${err.message}`));\n",
              "    } else {\n",
              "      maybeLoadScript(\"vega\", \"5\")\n",
              "        .then(() => maybeLoadScript(\"vega-lite\", \"4.17.0\"))\n",
              "        .then(() => maybeLoadScript(\"vega-embed\", \"6\"))\n",
              "        .catch(showError)\n",
              "        .then(() => displayChart(vegaEmbed));\n",
              "    }\n",
              "  })({\"config\": {\"view\": {\"continuousWidth\": 400, \"continuousHeight\": 300}}, \"data\": {\"name\": \"data-cf9f99bb2dad14f6e7c8977284de15da\"}, \"mark\": \"bar\", \"encoding\": {\"tooltip\": [{\"field\": \"TOTAL_VICTIMAS\", \"type\": \"quantitative\"}], \"x\": {\"field\": \"DEPARTAMENTO\", \"type\": \"nominal\"}, \"y\": {\"field\": \"TOTAL_VICTIMAS\", \"type\": \"quantitative\"}}, \"height\": 500, \"selection\": {\"selector026\": {\"type\": \"interval\", \"bind\": \"scales\", \"encodings\": [\"x\", \"y\"]}}, \"width\": 800, \"$schema\": \"https://vega.github.io/schema/vega-lite/v4.17.0.json\", \"datasets\": {\"data-cf9f99bb2dad14f6e7c8977284de15da\": [{\"DEPARTAMENTO\": \"Amazonas\", \"TOTAL_VICTIMAS\": 4951}, {\"DEPARTAMENTO\": \"Antioquia\", \"TOTAL_VICTIMAS\": 881969}, {\"DEPARTAMENTO\": \"Arauca\", \"TOTAL_VICTIMAS\": 24186}, {\"DEPARTAMENTO\": \"Archipi\\u00e9lago de San Andr\\u00e9s, Providencia y Santa Catalina\", \"TOTAL_VICTIMAS\": 8296}, {\"DEPARTAMENTO\": \"Atl\\u00e1ntico\", \"TOTAL_VICTIMAS\": 236636}, {\"DEPARTAMENTO\": \"BOGOT\\u00c1, D. C.\", \"TOTAL_VICTIMAS\": 1403833}, {\"DEPARTAMENTO\": \"Bol\\u00edvar\", \"TOTAL_VICTIMAS\": 180261}, {\"DEPARTAMENTO\": \"Boyaca\", \"TOTAL_VICTIMAS\": 124773}, {\"DEPARTAMENTO\": \"Caldas\", \"TOTAL_VICTIMAS\": 70027}, {\"DEPARTAMENTO\": \"Caquet\\u00e1\", \"TOTAL_VICTIMAS\": 39991}, {\"DEPARTAMENTO\": \"Casanare\", \"TOTAL_VICTIMAS\": 43473}, {\"DEPARTAMENTO\": \"Cauca\", \"TOTAL_VICTIMAS\": 145041}, {\"DEPARTAMENTO\": \"Cesar\", \"TOTAL_VICTIMAS\": 72646}, {\"DEPARTAMENTO\": \"Choc\\u00f3\", \"TOTAL_VICTIMAS\": 32877}, {\"DEPARTAMENTO\": \"Cundinamarca\", \"TOTAL_VICTIMAS\": 270147}, {\"DEPARTAMENTO\": \"C\\u00f3rdoba\", \"TOTAL_VICTIMAS\": 119970}, {\"DEPARTAMENTO\": \"Guain\\u00eda\", \"TOTAL_VICTIMAS\": 1607}, {\"DEPARTAMENTO\": \"Guaviare\", \"TOTAL_VICTIMAS\": 7681}, {\"DEPARTAMENTO\": \"Huila\", \"TOTAL_VICTIMAS\": 129737}, {\"DEPARTAMENTO\": \"La Guajira\", \"TOTAL_VICTIMAS\": 39037}, {\"DEPARTAMENTO\": \"Magdalena\", \"TOTAL_VICTIMAS\": 86489}, {\"DEPARTAMENTO\": \"Meta\", \"TOTAL_VICTIMAS\": 171918}, {\"DEPARTAMENTO\": \"Nari\\u00f1o\", \"TOTAL_VICTIMAS\": 170647}, {\"DEPARTAMENTO\": \"Norte de Santander\", \"TOTAL_VICTIMAS\": 136515}, {\"DEPARTAMENTO\": \"Putumayo\", \"TOTAL_VICTIMAS\": 16741}, {\"DEPARTAMENTO\": \"Quind\\u00edo\", \"TOTAL_VICTIMAS\": 63700}, {\"DEPARTAMENTO\": \"Risaralda\", \"TOTAL_VICTIMAS\": 130084}, {\"DEPARTAMENTO\": \"Santander\", \"TOTAL_VICTIMAS\": 245879}, {\"DEPARTAMENTO\": \"Sucre\", \"TOTAL_VICTIMAS\": 70296}, {\"DEPARTAMENTO\": \"Tolima\", \"TOTAL_VICTIMAS\": 214147}, {\"DEPARTAMENTO\": \"Valle del Cauca\", \"TOTAL_VICTIMAS\": 711706}, {\"DEPARTAMENTO\": \"Vaup\\u00e9s\", \"TOTAL_VICTIMAS\": 1218}, {\"DEPARTAMENTO\": \"Vichada\", \"TOTAL_VICTIMAS\": 2386}]}}, {\"mode\": \"vega-lite\"});\n",
              "</script>"
            ],
            "text/plain": [
              "alt.Chart(...)"
            ]
          },
          "metadata": {},
          "execution_count": 138
        }
      ]
    }
  ]
}